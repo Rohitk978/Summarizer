{
 "cells": [
  {
   "cell_type": "code",
   "execution_count": 2,
   "metadata": {},
   "outputs": [],
   "source": [
    "text = \"\"\"In the heart of a bustling city, amidst the symphony of honking cars and hurried footsteps, a chance encounter changed two lives forever; Amara, an artist who found solace in the swirls of her paintbrush, and Rian, an engineer with a love for numbers but an aching void where inspiration should reside, crossed paths on a crisp autumn morning when fate, disguised as a rogue gust of wind, swept Amara's sketchpad from her hands and sent it tumbling through the park where Rian sat on a bench, lost in thought; the fluttering pages caught his attention, and as he bent to retrieve the wayward book, his eyes fell upon intricate sketches of faces, each etched with raw emotion, and he knew instantly that he had stumbled upon something extraordinary, something more profound than his meticulously calculated equations could ever express; You’ve caught my muse, Amara joked nervously when she approached him, her cheeks tinged with the color of the falling leaves, but Rian could only smile, his normally sharp mind rendered speechless by the warmth in her voice and the intensity in her eyes, and from that moment on, their worlds began to intertwine in ways neither could have anticipated, with each meeting dissolving the boundaries between logic and creativity, as if the universe had conspired to bridge their contrasting lives; they spent hours exploring the city, discovering hidden alleys adorned with murals, exchanging stories of their pasts, and dreaming about futures where their passions could coexist, and it wasn’t long before Rian found himself sketching alongside her, his untrained hand clumsy but guided by Amara’s gentle encouragement, while she, in turn, grew fascinated with the elegance of his calculations, marveling at how they could capture the rhythm of the universe in a way that her art could not, and together, they began to create a project that combined their talents, designing an installation that used light, geometry, and shadow to tell a story of connection and transformation, a story that mirrored their own, where every element complemented the other, just as they did; as days turned into weeks, their bond deepened, and what began as a collaboration grew into something more profound, a love that was as vibrant and unpredictable as the art they created, yet as steady and grounded as the equations that underpinned Rian's work, but like any great story, theirs wasn’t without its challenges, for Amara’s restlessness often clashed with Rian’s need for structure, and there were moments when the weight of their differences threatened to pull them apart, yet each time they faltered, they found a way back to one another, guided by the unspoken understanding that their love was not about erasing their individuality but about celebrating it, about finding harmony in their dissonance; and so, their journey continued, with each obstacle strengthening their resolve and each triumph reminding them of the magic that had brought them together, until one evening, under a canopy of stars and the soft glow of their completed installation, Rian knelt on one knee, holding a small velvet box and a question that had been on his mind since the day he first saw her sketches, and as Amara said \"yes,\" tears glistening in her eyes, they both knew that this moment, like their love, was a masterpiece in the making, one that they would continue to shape together, one brushstroke and calculation at a time.\"\"\"\n",
    "\n",
    "\n",
    "text2 = \"\"\" Amara lived her life in vibrant hues, painting her world with the brilliance of an artist who saw the extraordinary in the ordinary, her days filled with the comforting chaos of paint splatters on her hands and the intoxicating aroma of fresh canvases; she had always been the kind of person who found solace in her solitude, crafting tales of emotion and beauty through her art, and though her life seemed full to those who admired her work from afar, she often felt a quiet ache, a yearning for something she couldn’t quite define, until one fateful morning when her path crossed with Rian’s, a man whose world was built on the precision of numbers and the symmetry of logic, his days filled with the hum of computer servers and the orderly chaos of coding scripts; their meeting was as serendipitous as it was unlikely, orchestrated by the gentle hand of fate when Amara, rushing to her favorite park to sketch before the light changed, lost her grip on her well-worn sketchbook, and a gust of wind sent its pages fluttering into the air, scattering years of her work across the park like leaves in the autumn breeze; it was Rian who first noticed the sketches tumbling across the ground, the delicate portraits and sweeping landscapes that seemed almost alive, as if the paper itself breathed with the life Amara had infused into her art, and as he bent to collect the scattered sheets, he was struck by the raw emotion in each line, the way her drawings seemed to tell stories that words could never capture, and by the time Amara reached him, her breathless apologies spilling out in a rush, Rian found himself staring not at the artwork but at the artist, her cheeks flushed from running, her dark eyes sparkling with a mix of embarrassment and gratitude; “Thank you,” she said, her voice soft yet vibrant, like the melody of a song that lingered in the air long after the notes had faded, and Rian, who had spent most of his life analyzing data and solving problems, found himself utterly captivated by the warmth in her gaze and the way her smile seemed to light up the gray morning; their conversation began hesitantly, with Amara thanking him and Rian complimenting her sketches, but as the minutes stretched into hours, they found themselves sitting together on a nearby bench, talking about everything and nothing, discovering a surprising ease in each other’s company despite the stark differences in their worlds, for while Amara spoke passionately about the freedom she found in creating art, Rian confessed that he had always admired creativity from a distance, feeling too bound by the rigidity of his logical mind to truly embrace it; over the following weeks, their paths began to cross more and more, initially by chance but soon by choice, as both found themselves drawn to the other in ways they couldn’t quite explain, and what started as casual conversations turned into shared coffee dates, long walks through the city’s hidden corners, and eventually, hours spent together in Amara’s sunlit studio, where Rian would watch in awe as she transformed blank canvases into vivid masterpieces, while she, in turn, found herself fascinated by the way he described his work, his passion for algorithms and problem-solving offering her a glimpse into a world she had never understood before; it wasn’t long before their connection deepened into something neither of them had expected, a love that was as unpredictable and vibrant as the colors Amara painted with, yet as steady and grounded as the equations Rian spent his days crafting, and though their differences occasionally led to misunderstandings—Amara’s impulsive nature clashing with Rian’s need for structure, or his analytical approach frustrating her intuitive one—they always found their way back to each other, their love fueled by the realization that their contrasts weren’t weaknesses but strengths, that together they created a balance neither had ever known; as their relationship grew, so did their dreams, and one day, inspired by their shared passion for bridging the gap between logic and creativity, they decided to embark on a project that would combine their talents, an interactive art installation that would use light, sound, and motion to tell a story of connection and transformation, a story that mirrored their own journey from strangers to soulmates; the process was anything but easy, as they struggled to reconcile their different approaches—Amara’s intuitive leaps often clashing with Rian’s methodical planning—but through countless late nights and moments of frustration, they learned to compromise, to listen, and to see the beauty in each other’s perspectives, and when their installation was finally complete, unveiled to a crowd of friends, family, and strangers on a crisp winter evening, it was met with awe and applause, a testament to the power of collaboration and the depth of their love; in the glow of that moment, with the installation casting intricate patterns of light and shadow across the room, Rian turned to Amara and, with a trembling hand, produced a small velvet box, his voice steady yet filled with emotion as he asked her to marry him, and as tears streamed down her cheeks and she whispered “yes,” they both knew that this was only the beginning of their story, a story that would continue to unfold with every brushstroke and every line of code, each chapter more beautiful than the last.\n",
    "\"\"\""
   ]
  },
  {
   "cell_type": "code",
   "execution_count": null,
   "metadata": {},
   "outputs": [],
   "source": [
    "from transformers import pipeline\n",
    "summarizer = pipeline('summarization',model=\"facebook/bart-large-cnn\")"
   ]
  },
  {
   "cell_type": "code",
   "execution_count": 4,
   "metadata": {},
   "outputs": [],
   "source": [
    "text2 = text2.replace(';',';<eos>')\n",
    "text2 = text2.replace('.','.<eos>')\n",
    "text2 = text2.replace(',',',<eos>')\n",
    "\n",
    "sent = text2.split('<eos>')"
   ]
  },
  {
   "cell_type": "code",
   "execution_count": null,
   "metadata": {},
   "outputs": [],
   "source": [
    "sent"
   ]
  },
  {
   "cell_type": "code",
   "execution_count": null,
   "metadata": {},
   "outputs": [],
   "source": [
    "max_chunk = 500\n",
    "current_chunk = 0\n",
    "chunks = []\n",
    "\n",
    "for sents in sent:\n",
    "    if len(chunks) == current_chunk+1:\n",
    "        if len(chunks[current_chunk]) + len(sents.split(' ')) <= max_chunk:\n",
    "            chunks[current_chunk].extend(sents.split(' '))\n",
    "        else:\n",
    "            current_chunk += 1\n",
    "            chunks.append(sents.split(' '))\n",
    "    else:\n",
    "        print(current_chunk)\n",
    "        chunks.append(sents.split(' '))"
   ]
  },
  {
   "cell_type": "code",
   "execution_count": null,
   "metadata": {},
   "outputs": [],
   "source": [
    "chunks"
   ]
  },
  {
   "cell_type": "code",
   "execution_count": 8,
   "metadata": {},
   "outputs": [],
   "source": [
    "for chunk_id in range(len(chunks)):\n",
    "    chunks[chunk_id] = ' '.join(chunks[chunk_id])"
   ]
  },
  {
   "cell_type": "code",
   "execution_count": null,
   "metadata": {},
   "outputs": [],
   "source": [
    "chunk_id"
   ]
  },
  {
   "cell_type": "code",
   "execution_count": null,
   "metadata": {},
   "outputs": [],
   "source": [
    "chunks[1]"
   ]
  },
  {
   "cell_type": "code",
   "execution_count": null,
   "metadata": {},
   "outputs": [],
   "source": [
    "res = summarizer(chunks,max_length=130,min_length=30,do_sample=False)"
   ]
  },
  {
   "cell_type": "code",
   "execution_count": null,
   "metadata": {},
   "outputs": [],
   "source": [
    "res"
   ]
  },
  {
   "cell_type": "code",
   "execution_count": null,
   "metadata": {},
   "outputs": [],
   "source": [
    "' '.join([summ['summary_text'] for summ in res])"
   ]
  },
  {
   "cell_type": "code",
   "execution_count": 14,
   "metadata": {},
   "outputs": [],
   "source": [
    "Text = ' '.join([summ['summary_text'] for summ in res])"
   ]
  },
  {
   "cell_type": "code",
   "execution_count": 15,
   "metadata": {},
   "outputs": [],
   "source": [
    "with open('storysummary.txt','w') as f:\n",
    "    f.write(Text)"
   ]
  }
 ],
 "metadata": {
  "kernelspec": {
   "display_name": "mynew_env",
   "language": "python",
   "name": "python3"
  },
  "language_info": {
   "codemirror_mode": {
    "name": "ipython",
    "version": 3
   },
   "file_extension": ".py",
   "mimetype": "text/x-python",
   "name": "python",
   "nbconvert_exporter": "python",
   "pygments_lexer": "ipython3",
   "version": "3.10.0"
  }
 },
 "nbformat": 4,
 "nbformat_minor": 2
}
